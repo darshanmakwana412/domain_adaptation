{
 "cells": [
  {
   "cell_type": "code",
   "execution_count": 5,
   "id": "a3786ef8-7854-4f41-a5e8-8a2767ac6830",
   "metadata": {},
   "outputs": [],
   "source": [
    "import numpy as np\n",
    "np.bool = np.bool_\n",
    "np.complex = np.complex128\n",
    "\n",
    "import torch\n",
    "from aug.automold import add_rain, add_snow, add_fog, add_autumn\n",
    "from torch.utils.data import Dataset, DataLoader\n",
    "from torchvision import transforms as tt\n",
    "from diffusers.utils import make_image_grid\n",
    "from models import ResNet\n",
    "from PIL import Image\n",
    "from tqdm.notebook import tqdm\n",
    "import cv2\n",
    "import random\n",
    "import os\n",
    "import torchvision\n",
    "from torch.optim.lr_scheduler import ReduceLROnPlateau, OneCycleLR, CosineAnnealingLR, StepLR"
   ]
  },
  {
   "cell_type": "code",
   "execution_count": 6,
   "id": "28931bb0-9b35-40e8-8685-91e8b77432d0",
   "metadata": {},
   "outputs": [],
   "source": [
    "def load_stl10(root_dir: str = \"stl10_binary\"):\n",
    "\n",
    "    path_to_images = os.path.join(root_dir, \"train_X.bin\")\n",
    "    path_to_labels = os.path.join(root_dir, \"train_y.bin\")\n",
    "    \n",
    "    with open(path_to_images, 'rb') as f:\n",
    "        images = np.fromfile(f, dtype=np.uint8)\n",
    "        images = np.reshape(images, (-1, 3, 96, 96))\n",
    "        train_images = np.transpose(images, (0, 3, 2, 1))\n",
    "    \n",
    "    with open(path_to_labels, 'rb') as f:\n",
    "        train_labels = np.fromfile(f, dtype=np.uint8) - 1\n",
    "    \n",
    "    path_to_images = os.path.join(root_dir, \"test_X.bin\")\n",
    "    path_to_labels = os.path.join(root_dir, \"test_y.bin\")\n",
    "    \n",
    "    with open(path_to_images, 'rb') as f:\n",
    "        images = np.fromfile(f, dtype=np.uint8)\n",
    "        images = np.reshape(images, (-1, 3, 96, 96))\n",
    "        test_images = np.transpose(images, (0, 3, 2, 1))\n",
    "    \n",
    "    with open(path_to_labels, 'rb') as f:\n",
    "        labels = np.fromfile(f, dtype=np.uint8)\n",
    "        test_labels = labels - 1\n",
    "\n",
    "    return train_images, train_labels, test_images, test_labels\n",
    "\n",
    "def add_snow(image, snowflake_count=200, snowflake_radius=(1, 3), snowflake_intensity=(200, 255)):\n",
    "    snowy_image = image.copy()\n",
    "    height, width, _ = snowy_image.shape\n",
    "    for _ in range(snowflake_count):\n",
    "        x = np.random.randint(0, width)\n",
    "        y = np.random.randint(0, height)\n",
    "        \n",
    "        radius = np.random.randint(snowflake_radius[0], snowflake_radius[1])\n",
    "        intensity = np.random.randint(snowflake_intensity[0], snowflake_intensity[1])\n",
    "        \n",
    "        cv2.circle(snowy_image, (x, y), radius, (intensity, intensity, intensity), -1)\n",
    "\n",
    "    return snowy_image\n",
    "\n",
    "def shift(image, domain):\n",
    "    if domain == \"rain\":\n",
    "        return add_rain(image, rain_type = 'torrential')\n",
    "    elif domain == \"fog\":\n",
    "        return add_fog(image, fog_coeff=1.0)\n",
    "    elif domain == \"snow\":\n",
    "        return add_snow(image=image)\n",
    "    elif domain == \"autumn\":\n",
    "        return add_autumn(image)\n",
    "    return image\n",
    "\n",
    "class STL10Dataset(Dataset):\n",
    "    def __init__(self, images, labels, domain=\"base\"):\n",
    "        self.images = images.astype(np.float32)\n",
    "        self.labels = labels.astype(np.int64)\n",
    "        self.domain = domain\n",
    "        self.domains = [\"rain\", \"fog\", \"snow\"]\n",
    "        stats = ((113.911194, 112.1515, 103.69485), (51.854874, 51.261967, 51.842403))\n",
    "        self.tfms = tt.Compose([\n",
    "            tt.ToTensor(),\n",
    "            tt.Normalize(stats[0], stats[1])\n",
    "        ])\n",
    "\n",
    "    def __len__(self):\n",
    "        if self.domain == \"all\":\n",
    "            return len(self.domains) * len(self.images)\n",
    "        return len(self.images)\n",
    "\n",
    "    def __getitem__(self, idx):\n",
    "\n",
    "        if self.domain == \"all\":\n",
    "            d = idx // len(self.images)\n",
    "            idx = idx % len(self.images)\n",
    "            domain = self.domains[d]\n",
    "        else:\n",
    "            domain = self.domain\n",
    "        \n",
    "        image = self.images[idx]\n",
    "        label = self.labels[idx]\n",
    "\n",
    "        image = shift(image, domain)\n",
    "        \n",
    "        image[np.isnan(image)] = 0\n",
    "\n",
    "        image = self.tfms(image)\n",
    "\n",
    "        return image, label\n",
    "\n",
    "def evaluate(model, batch_size, num_workers, domains, device, dtype):\n",
    "    \n",
    "    train_images, train_labels, test_images, test_labels = load_stl10()\n",
    "    criterion = torch.nn.CrossEntropyLoss()\n",
    "\n",
    "    model.eval()\n",
    "    model.to(device).to(dtype)\n",
    "    result = {}\n",
    "\n",
    "    for domain in domains:\n",
    "        \n",
    "        test_dataset = STL10Dataset(test_images, test_labels, domain=domain)\n",
    "        test_loader = DataLoader(test_dataset, batch_size=batch_size, shuffle=False, num_workers=num_workers)\n",
    "\n",
    "        total_loss = 0\n",
    "        total = 0\n",
    "        correct = 0\n",
    "        with torch.no_grad():\n",
    "            for images, labels in test_loader:\n",
    "                inputs, labels = images.to(device).to(dtype), labels.to(device)\n",
    "                outputs = model(inputs)\n",
    "                loss = criterion(outputs, labels)\n",
    "                total_loss += loss.item()\n",
    "                _, predicted = outputs.max(1)\n",
    "                total += labels.size(0)\n",
    "                correct += predicted.eq(labels).sum().item()\n",
    "        \n",
    "        result[domain] = {\n",
    "            \"loss\": total_loss / total,\n",
    "            \"accuracy\": correct / total\n",
    "        }\n",
    "\n",
    "    return result"
   ]
  },
  {
   "cell_type": "code",
   "execution_count": 7,
   "id": "c0d58a07-5054-4b7f-b2e2-ac9bc7d47787",
   "metadata": {},
   "outputs": [
    {
     "name": "stdout",
     "output_type": "stream",
     "text": [
      "Accuracy: 68.3375% on domain rain\n",
      "Accuracy: 64.8125% on domain fog\n",
      "Accuracy: 56.9500% on domain snow\n"
     ]
    }
   ],
   "source": [
    "import torchvision\n",
    "import torch\n",
    "\n",
    "device = \"cuda:7\"\n",
    "dtype = torch.float32\n",
    "\n",
    "def load_model(model_name):\n",
    "    model = torchvision.models.resnet50(weights=torchvision.models.ResNet50_Weights.DEFAULT)\n",
    "    model.fc = torch.nn.Linear(model.fc.in_features, 10)\n",
    "    model.load_state_dict(torch.load(f\"./ckpts/{model_name}.pth\"))\n",
    "    model.to(device).to(dtype)\n",
    "    return model\n",
    "\n",
    "def get_empty_state():\n",
    "    result = torchvision.models.resnet50(weights=torchvision.models.ResNet50_Weights.DEFAULT)\n",
    "    result.fc = torch.nn.Linear(result.fc.in_features, 10)\n",
    "    result.to(device).to(dtype)\n",
    "    result_state = result.state_dict()\n",
    "    for k, v in result_state.items():\n",
    "        result_state[k] = torch.zeros_like(v)\n",
    "    return result_state\n",
    "\n",
    "def get_empty_model():\n",
    "    result = torchvision.models.resnet50(weights=torchvision.models.ResNet50_Weights.DEFAULT)\n",
    "    result.fc = torch.nn.Linear(result.fc.in_features, 10)\n",
    "    result.to(device).to(dtype)\n",
    "    return result\n",
    "\n",
    "base = load_model(\"resnet_50\")\n",
    "mtl = load_model(\"mtl\")\n",
    "\n",
    "for domain in [\"rain\", \"fog\", \"snow\"]:\n",
    "\n",
    "    mask = torch.load(f\"./ckpts/mask_{domain}.pth\")\n",
    "    state = get_empty_state()\n",
    "    for key in state:\n",
    "        state[key] = base.state_dict()[key] + mask[key].to(device).to(dtype) * mtl.state_dict()[key]\n",
    "    model = get_empty_model()\n",
    "    model.load_state_dict(state)\n",
    "    \n",
    "    result = evaluate(\n",
    "        base,\n",
    "        batch_size = 256,\n",
    "        num_workers = 8,\n",
    "        domains = [domain],\n",
    "        device = device,\n",
    "        dtype = dtype\n",
    "    )\n",
    "    print(f\"Accuracy: {result[domain]['accuracy'] * 100:.4f}% on domain {domain}\")"
   ]
  },
  {
   "cell_type": "code",
   "execution_count": 12,
   "id": "f174d421-890a-43f8-9d96-ffac80e516f6",
   "metadata": {},
   "outputs": [
    {
     "data": {
      "application/vnd.jupyter.widget-view+json": {
       "model_id": "7543daf992b548198164c6429c602787",
       "version_major": 2,
       "version_minor": 0
      },
      "text/plain": [
       "  0%|          | 0/20 [00:00<?, ?it/s]"
      ]
     },
     "metadata": {},
     "output_type": "display_data"
    },
    {
     "data": {
      "application/vnd.jupyter.widget-view+json": {
       "model_id": "6b3d7faeff6044eab8eca5038d6ec862",
       "version_major": 2,
       "version_minor": 0
      },
      "text/plain": [
       "  0%|          | 0/20 [00:00<?, ?it/s]"
      ]
     },
     "metadata": {},
     "output_type": "display_data"
    },
    {
     "data": {
      "application/vnd.jupyter.widget-view+json": {
       "model_id": "881106e11f7c4df7bcd31078313df497",
       "version_major": 2,
       "version_minor": 0
      },
      "text/plain": [
       "  0%|          | 0/20 [00:00<?, ?it/s]"
      ]
     },
     "metadata": {},
     "output_type": "display_data"
    },
    {
     "data": {
      "application/vnd.jupyter.widget-view+json": {
       "model_id": "a0f4a648322a4e92ab7fd25d23f63827",
       "version_major": 2,
       "version_minor": 0
      },
      "text/plain": [
       "  0%|          | 0/20 [00:00<?, ?it/s]"
      ]
     },
     "metadata": {},
     "output_type": "display_data"
    },
    {
     "data": {
      "application/vnd.jupyter.widget-view+json": {
       "model_id": "6cf3c98dd9d74196be84d29dc44425ce",
       "version_major": 2,
       "version_minor": 0
      },
      "text/plain": [
       "  0%|          | 0/20 [00:00<?, ?it/s]"
      ]
     },
     "metadata": {},
     "output_type": "display_data"
    },
    {
     "data": {
      "application/vnd.jupyter.widget-view+json": {
       "model_id": "d97b4586c5d14191a4e6b39557d8077b",
       "version_major": 2,
       "version_minor": 0
      },
      "text/plain": [
       "  0%|          | 0/20 [00:00<?, ?it/s]"
      ]
     },
     "metadata": {},
     "output_type": "display_data"
    },
    {
     "data": {
      "application/vnd.jupyter.widget-view+json": {
       "model_id": "ee8ac463a36c41448661a9393ccb1708",
       "version_major": 2,
       "version_minor": 0
      },
      "text/plain": [
       "  0%|          | 0/20 [00:00<?, ?it/s]"
      ]
     },
     "metadata": {},
     "output_type": "display_data"
    },
    {
     "data": {
      "application/vnd.jupyter.widget-view+json": {
       "model_id": "cf3a8b757e2c40fdb4f5b2dfd3715636",
       "version_major": 2,
       "version_minor": 0
      },
      "text/plain": [
       "  0%|          | 0/20 [00:00<?, ?it/s]"
      ]
     },
     "metadata": {},
     "output_type": "display_data"
    },
    {
     "data": {
      "application/vnd.jupyter.widget-view+json": {
       "model_id": "a50b218d521246419a781b6aee1d5a06",
       "version_major": 2,
       "version_minor": 0
      },
      "text/plain": [
       "  0%|          | 0/20 [00:00<?, ?it/s]"
      ]
     },
     "metadata": {},
     "output_type": "display_data"
    },
    {
     "data": {
      "application/vnd.jupyter.widget-view+json": {
       "model_id": "930da9d4b2f246f783b7974c372f7580",
       "version_major": 2,
       "version_minor": 0
      },
      "text/plain": [
       "  0%|          | 0/20 [00:00<?, ?it/s]"
      ]
     },
     "metadata": {},
     "output_type": "display_data"
    },
    {
     "data": {
      "application/vnd.jupyter.widget-view+json": {
       "model_id": "44a528b5d9a447298ceaf639b29365a4",
       "version_major": 2,
       "version_minor": 0
      },
      "text/plain": [
       "  0%|          | 0/20 [00:00<?, ?it/s]"
      ]
     },
     "metadata": {},
     "output_type": "display_data"
    },
    {
     "data": {
      "application/vnd.jupyter.widget-view+json": {
       "model_id": "80bb86912e954530a2508156083a58a6",
       "version_major": 2,
       "version_minor": 0
      },
      "text/plain": [
       "  0%|          | 0/20 [00:00<?, ?it/s]"
      ]
     },
     "metadata": {},
     "output_type": "display_data"
    },
    {
     "data": {
      "application/vnd.jupyter.widget-view+json": {
       "model_id": "800105a12cec459e89c5dba33c942b8f",
       "version_major": 2,
       "version_minor": 0
      },
      "text/plain": [
       "  0%|          | 0/20 [00:00<?, ?it/s]"
      ]
     },
     "metadata": {},
     "output_type": "display_data"
    },
    {
     "data": {
      "application/vnd.jupyter.widget-view+json": {
       "model_id": "8ffa215281cb44c48b3400a7c61da717",
       "version_major": 2,
       "version_minor": 0
      },
      "text/plain": [
       "  0%|          | 0/20 [00:00<?, ?it/s]"
      ]
     },
     "metadata": {},
     "output_type": "display_data"
    },
    {
     "data": {
      "application/vnd.jupyter.widget-view+json": {
       "model_id": "c5bfacb9e45e47308243f529e07df830",
       "version_major": 2,
       "version_minor": 0
      },
      "text/plain": [
       "  0%|          | 0/20 [00:00<?, ?it/s]"
      ]
     },
     "metadata": {},
     "output_type": "display_data"
    },
    {
     "data": {
      "application/vnd.jupyter.widget-view+json": {
       "model_id": "c36364ae103f454e90634e0272b66d67",
       "version_major": 2,
       "version_minor": 0
      },
      "text/plain": [
       "  0%|          | 0/20 [00:00<?, ?it/s]"
      ]
     },
     "metadata": {},
     "output_type": "display_data"
    },
    {
     "data": {
      "application/vnd.jupyter.widget-view+json": {
       "model_id": "005b9041a4334bd5951b7659248a0ff3",
       "version_major": 2,
       "version_minor": 0
      },
      "text/plain": [
       "  0%|          | 0/20 [00:00<?, ?it/s]"
      ]
     },
     "metadata": {},
     "output_type": "display_data"
    },
    {
     "data": {
      "application/vnd.jupyter.widget-view+json": {
       "model_id": "dcc30a50aec04b2e9ff67402558cadc4",
       "version_major": 2,
       "version_minor": 0
      },
      "text/plain": [
       "  0%|          | 0/20 [00:00<?, ?it/s]"
      ]
     },
     "metadata": {},
     "output_type": "display_data"
    },
    {
     "data": {
      "application/vnd.jupyter.widget-view+json": {
       "model_id": "be2e9b62cbbf4b8e86f7118283b749ee",
       "version_major": 2,
       "version_minor": 0
      },
      "text/plain": [
       "  0%|          | 0/20 [00:00<?, ?it/s]"
      ]
     },
     "metadata": {},
     "output_type": "display_data"
    },
    {
     "data": {
      "application/vnd.jupyter.widget-view+json": {
       "model_id": "7ef0f71102004d5ea8d5a0e8afcbc3e2",
       "version_major": 2,
       "version_minor": 0
      },
      "text/plain": [
       "  0%|          | 0/20 [00:00<?, ?it/s]"
      ]
     },
     "metadata": {},
     "output_type": "display_data"
    },
    {
     "data": {
      "application/vnd.jupyter.widget-view+json": {
       "model_id": "e359de43b1854a9bbcac9be0cb5daac8",
       "version_major": 2,
       "version_minor": 0
      },
      "text/plain": [
       "  0%|          | 0/20 [00:00<?, ?it/s]"
      ]
     },
     "metadata": {},
     "output_type": "display_data"
    },
    {
     "data": {
      "application/vnd.jupyter.widget-view+json": {
       "model_id": "a06924993a2e473cb130a1d843d9883d",
       "version_major": 2,
       "version_minor": 0
      },
      "text/plain": [
       "  0%|          | 0/20 [00:00<?, ?it/s]"
      ]
     },
     "metadata": {},
     "output_type": "display_data"
    },
    {
     "data": {
      "application/vnd.jupyter.widget-view+json": {
       "model_id": "d564e500b7514d2597439c2078436194",
       "version_major": 2,
       "version_minor": 0
      },
      "text/plain": [
       "  0%|          | 0/20 [00:00<?, ?it/s]"
      ]
     },
     "metadata": {},
     "output_type": "display_data"
    },
    {
     "data": {
      "application/vnd.jupyter.widget-view+json": {
       "model_id": "2209ac691d534df3897a76913f27240e",
       "version_major": 2,
       "version_minor": 0
      },
      "text/plain": [
       "  0%|          | 0/20 [00:00<?, ?it/s]"
      ]
     },
     "metadata": {},
     "output_type": "display_data"
    },
    {
     "data": {
      "application/vnd.jupyter.widget-view+json": {
       "model_id": "705b074b6d3a4053a4c3e9aa466c930e",
       "version_major": 2,
       "version_minor": 0
      },
      "text/plain": [
       "  0%|          | 0/20 [00:00<?, ?it/s]"
      ]
     },
     "metadata": {},
     "output_type": "display_data"
    },
    {
     "data": {
      "application/vnd.jupyter.widget-view+json": {
       "model_id": "1b501c387d2b4960b40cc9032895e56f",
       "version_major": 2,
       "version_minor": 0
      },
      "text/plain": [
       "  0%|          | 0/20 [00:00<?, ?it/s]"
      ]
     },
     "metadata": {},
     "output_type": "display_data"
    },
    {
     "data": {
      "application/vnd.jupyter.widget-view+json": {
       "model_id": "eff589daa11046fdb07d4b526c7f369e",
       "version_major": 2,
       "version_minor": 0
      },
      "text/plain": [
       "  0%|          | 0/20 [00:00<?, ?it/s]"
      ]
     },
     "metadata": {},
     "output_type": "display_data"
    },
    {
     "data": {
      "application/vnd.jupyter.widget-view+json": {
       "model_id": "38e71a9f94e248ffb610f21874ecafdb",
       "version_major": 2,
       "version_minor": 0
      },
      "text/plain": [
       "  0%|          | 0/20 [00:00<?, ?it/s]"
      ]
     },
     "metadata": {},
     "output_type": "display_data"
    },
    {
     "data": {
      "application/vnd.jupyter.widget-view+json": {
       "model_id": "bfdc3e8a616246d3a3e03d0372db1f26",
       "version_major": 2,
       "version_minor": 0
      },
      "text/plain": [
       "  0%|          | 0/20 [00:00<?, ?it/s]"
      ]
     },
     "metadata": {},
     "output_type": "display_data"
    },
    {
     "data": {
      "application/vnd.jupyter.widget-view+json": {
       "model_id": "2e610fde9f544b94a5f2c0732d2c4e98",
       "version_major": 2,
       "version_minor": 0
      },
      "text/plain": [
       "  0%|          | 0/20 [00:00<?, ?it/s]"
      ]
     },
     "metadata": {},
     "output_type": "display_data"
    },
    {
     "name": "stdout",
     "output_type": "stream",
     "text": [
      "[0.710875, 0.316125, 0.32575, 0.29075]\n"
     ]
    }
   ],
   "source": [
    "from cleverhans.torch.attacks.fast_gradient_method import fast_gradient_method\n",
    "from cleverhans.torch.attacks.projected_gradient_descent import (\n",
    "    projected_gradient_descent,\n",
    ")\n",
    "\n",
    "num_epochs = 30\n",
    "lr = 5e-4\n",
    "batch_size = 256\n",
    "num_workers = 8\n",
    "train_domain = \"rain\"\n",
    "eval_domains = [\"base\", \"rain\", \"fog\", \"snow\"]\n",
    "eps = 0.3\n",
    "\n",
    "device = \"cuda:7\"\n",
    "dtype = torch.float32\n",
    "\n",
    "train_images, train_labels, test_images, test_labels = load_stl10()\n",
    "train_dataset = STL10Dataset(train_images, train_labels, domain=train_domain)\n",
    "train_loader = DataLoader(train_dataset, batch_size=batch_size, shuffle=False, num_workers=num_workers)\n",
    "\n",
    "model = torchvision.models.resnet50(weights=torchvision.models.ResNet50_Weights.DEFAULT)\n",
    "model.fc = torch.nn.Linear(model.fc.in_features, 10)\n",
    "model.load_state_dict(torch.load(\"./ckpts/resnet50_rain.pth\"))\n",
    "\n",
    "# model = ResNet.load_model(model_name=\"resnet50\", n_classes=10)\n",
    "# # model = ResNet.load_model(model_name=\"./models/resnet152_base.pth\", n_classes=10)\n",
    "# model.train()\n",
    "model.to(device).to(dtype)\n",
    "\n",
    "criterion = torch.nn.CrossEntropyLoss()\n",
    "# optimizer = torch.optim.Adam(model.parameters(), lr = lr)\n",
    "optimizer = torch.optim.SGD([\n",
    "            {'params': model.conv1.parameters(), 'lr': 0.001},\n",
    "            {'params': model.bn1.parameters(), 'lr': 0.002},\n",
    "            {'params': model.relu.parameters(), 'lr': 0.003},\n",
    "            {'params': model.maxpool.parameters(), 'lr': 0.004},\n",
    "            {'params': model.layer1.parameters(), 'lr': 0.005},\n",
    "            {'params': model.layer2.parameters(), 'lr': 0.006},\n",
    "            {'params': model.layer3.parameters(), 'lr': 0.007},\n",
    "            {'params': model.layer4.parameters(), 'lr': 0.008},\n",
    "            {'params': model.avgpool.parameters(), 'lr': 0.009},\n",
    "            {'params': model.fc.parameters(), 'lr': 0.001}\n",
    "        ], lr=0.001, momentum=0.9)\n",
    "# scheduler = CosineAnnealingLR(optimizer, T_max=len(train_loader) * num_epochs, eta_min=1e-5)\n",
    "scheduler = StepLR(optimizer, step_size=10, gamma=0.1)\n",
    "for epoch in range(num_epochs):\n",
    "\n",
    "    model.train()\n",
    "\n",
    "    pbar = tqdm(train_loader)\n",
    "    for images, labels in pbar:\n",
    "        \n",
    "        inputs, labels = images.to(device).to(dtype), labels.to(device)\n",
    "\n",
    "        x_fgm = fast_gradient_method(model, inputs, eps, np.inf)\n",
    "        # x_pgd = projected_gradient_descent(model, inputs, eps, 0.01, 40, np.inf)\n",
    "        \n",
    "        optimizer.zero_grad()\n",
    "        outputs = model(inputs)\n",
    "        outputs_fgm = model(x_fgm)\n",
    "        loss = criterion(outputs, labels) + criterion(outputs_fgm, labels)\n",
    "        loss.backward()\n",
    "        optimizer.step()\n",
    "    \n",
    "        pbar.set_description(f\"Loss: {loss.item()}, lr: {scheduler.get_last_lr()[0]:.6f}\")\n",
    "\n",
    "    scheduler.step()\n",
    "        \n",
    "result = evaluate(\n",
    "    model,\n",
    "    batch_size = batch_size,\n",
    "    num_workers = num_workers,\n",
    "    domains = eval_domains,\n",
    "    device = device,\n",
    "    dtype = dtype\n",
    ")\n",
    "print([result[domain][\"accuracy\"] for domain in eval_domains])"
   ]
  },
  {
   "cell_type": "code",
   "execution_count": null,
   "id": "a180c176-9def-4187-b1fa-098e09ec5291",
   "metadata": {},
   "outputs": [],
   "source": []
  }
 ],
 "metadata": {
  "kernelspec": {
   "display_name": "Python 3 (ipykernel)",
   "language": "python",
   "name": "python3"
  },
  "language_info": {
   "codemirror_mode": {
    "name": "ipython",
    "version": 3
   },
   "file_extension": ".py",
   "mimetype": "text/x-python",
   "name": "python",
   "nbconvert_exporter": "python",
   "pygments_lexer": "ipython3",
   "version": "3.10.12"
  }
 },
 "nbformat": 4,
 "nbformat_minor": 5
}
